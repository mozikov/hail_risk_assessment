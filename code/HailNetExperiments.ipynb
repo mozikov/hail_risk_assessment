{
  "cells": [
    {
      "cell_type": "markdown",
      "source": [
        "# Prepare code and data.\n",
        "Cloning repository and mounting google drive."
      ],
      "metadata": {
        "id": "icLYgLzcwjmh"
      }
    },
    {
      "cell_type": "code",
      "execution_count": null,
      "metadata": {
        "colab": {
          "base_uri": "https://localhost:8080/"
        },
        "id": "DOGThE63vBlh",
        "outputId": "73f9952d-f92b-4ba4-ba76-33a4569ca9ee"
      },
      "outputs": [
        {
          "output_type": "stream",
          "name": "stdout",
          "text": [
            "Cloning into '2022-Project-94'...\n",
            "remote: Enumerating objects: 924, done.\u001b[K\n",
            "remote: Counting objects: 100% (320/320), done.\u001b[K\n",
            "remote: Compressing objects: 100% (241/241), done.\u001b[K\n",
            "remote: Total 924 (delta 121), reused 273 (delta 79), pack-reused 604\u001b[K\n",
            "Receiving objects: 100% (924/924), 1.96 GiB | 17.05 MiB/s, done.\n",
            "Resolving deltas: 100% (317/317), done.\n"
          ]
        }
      ],
      "source": [
        "!git clone https://github.com/Intelligent-Systems-Phystech/2022-Project-94"
      ]
    },
    {
      "cell_type": "code",
      "source": [
        "import os\n",
        "os.rename(\"2022-Project-94\", \"HailProject\")"
      ],
      "metadata": {
        "id": "7_KvPd30waHq"
      },
      "execution_count": null,
      "outputs": []
    },
    {
      "cell_type": "code",
      "source": [
        "from google.colab import drive\n",
        "drive.mount('/content/drive')"
      ],
      "metadata": {
        "id": "Vabht6dG4B6p",
        "colab": {
          "base_uri": "https://localhost:8080/",
          "height": 329
        },
        "outputId": "91c0e8ed-a0b4-4584-cd11-e5bd33a7956b"
      },
      "execution_count": null,
      "outputs": [
        {
          "output_type": "error",
          "ename": "MessageError",
          "evalue": "ignored",
          "traceback": [
            "\u001b[0;31m---------------------------------------------------------------------------\u001b[0m",
            "\u001b[0;31mMessageError\u001b[0m                              Traceback (most recent call last)",
            "\u001b[0;32m<ipython-input-3-d5df0069828e>\u001b[0m in \u001b[0;36m<module>\u001b[0;34m()\u001b[0m\n\u001b[1;32m      1\u001b[0m \u001b[0;32mfrom\u001b[0m \u001b[0mgoogle\u001b[0m\u001b[0;34m.\u001b[0m\u001b[0mcolab\u001b[0m \u001b[0;32mimport\u001b[0m \u001b[0mdrive\u001b[0m\u001b[0;34m\u001b[0m\u001b[0;34m\u001b[0m\u001b[0m\n\u001b[0;32m----> 2\u001b[0;31m \u001b[0mdrive\u001b[0m\u001b[0;34m.\u001b[0m\u001b[0mmount\u001b[0m\u001b[0;34m(\u001b[0m\u001b[0;34m'/content/drive'\u001b[0m\u001b[0;34m)\u001b[0m\u001b[0;34m\u001b[0m\u001b[0;34m\u001b[0m\u001b[0m\n\u001b[0m",
            "\u001b[0;32m/usr/local/lib/python3.7/dist-packages/google/colab/drive.py\u001b[0m in \u001b[0;36mmount\u001b[0;34m(mountpoint, force_remount, timeout_ms)\u001b[0m\n\u001b[1;32m    107\u001b[0m       \u001b[0mforce_remount\u001b[0m\u001b[0;34m=\u001b[0m\u001b[0mforce_remount\u001b[0m\u001b[0;34m,\u001b[0m\u001b[0;34m\u001b[0m\u001b[0;34m\u001b[0m\u001b[0m\n\u001b[1;32m    108\u001b[0m       \u001b[0mtimeout_ms\u001b[0m\u001b[0;34m=\u001b[0m\u001b[0mtimeout_ms\u001b[0m\u001b[0;34m,\u001b[0m\u001b[0;34m\u001b[0m\u001b[0;34m\u001b[0m\u001b[0m\n\u001b[0;32m--> 109\u001b[0;31m       ephemeral=True)\n\u001b[0m\u001b[1;32m    110\u001b[0m \u001b[0;34m\u001b[0m\u001b[0m\n\u001b[1;32m    111\u001b[0m \u001b[0;34m\u001b[0m\u001b[0m\n",
            "\u001b[0;32m/usr/local/lib/python3.7/dist-packages/google/colab/drive.py\u001b[0m in \u001b[0;36m_mount\u001b[0;34m(mountpoint, force_remount, timeout_ms, ephemeral)\u001b[0m\n\u001b[1;32m    122\u001b[0m   \u001b[0;32mif\u001b[0m \u001b[0mephemeral\u001b[0m\u001b[0;34m:\u001b[0m\u001b[0;34m\u001b[0m\u001b[0;34m\u001b[0m\u001b[0m\n\u001b[1;32m    123\u001b[0m     _message.blocking_request(\n\u001b[0;32m--> 124\u001b[0;31m         'request_auth', request={'authType': 'dfs_ephemeral'}, timeout_sec=None)\n\u001b[0m\u001b[1;32m    125\u001b[0m \u001b[0;34m\u001b[0m\u001b[0m\n\u001b[1;32m    126\u001b[0m   \u001b[0mmountpoint\u001b[0m \u001b[0;34m=\u001b[0m \u001b[0m_os\u001b[0m\u001b[0;34m.\u001b[0m\u001b[0mpath\u001b[0m\u001b[0;34m.\u001b[0m\u001b[0mexpanduser\u001b[0m\u001b[0;34m(\u001b[0m\u001b[0mmountpoint\u001b[0m\u001b[0;34m)\u001b[0m\u001b[0;34m\u001b[0m\u001b[0;34m\u001b[0m\u001b[0m\n",
            "\u001b[0;32m/usr/local/lib/python3.7/dist-packages/google/colab/_message.py\u001b[0m in \u001b[0;36mblocking_request\u001b[0;34m(request_type, request, timeout_sec, parent)\u001b[0m\n\u001b[1;32m    173\u001b[0m   request_id = send_request(\n\u001b[1;32m    174\u001b[0m       request_type, request, parent=parent, expect_reply=True)\n\u001b[0;32m--> 175\u001b[0;31m   \u001b[0;32mreturn\u001b[0m \u001b[0mread_reply_from_input\u001b[0m\u001b[0;34m(\u001b[0m\u001b[0mrequest_id\u001b[0m\u001b[0;34m,\u001b[0m \u001b[0mtimeout_sec\u001b[0m\u001b[0;34m)\u001b[0m\u001b[0;34m\u001b[0m\u001b[0;34m\u001b[0m\u001b[0m\n\u001b[0m",
            "\u001b[0;32m/usr/local/lib/python3.7/dist-packages/google/colab/_message.py\u001b[0m in \u001b[0;36mread_reply_from_input\u001b[0;34m(message_id, timeout_sec)\u001b[0m\n\u001b[1;32m    104\u001b[0m         reply.get('colab_msg_id') == message_id):\n\u001b[1;32m    105\u001b[0m       \u001b[0;32mif\u001b[0m \u001b[0;34m'error'\u001b[0m \u001b[0;32min\u001b[0m \u001b[0mreply\u001b[0m\u001b[0;34m:\u001b[0m\u001b[0;34m\u001b[0m\u001b[0;34m\u001b[0m\u001b[0m\n\u001b[0;32m--> 106\u001b[0;31m         \u001b[0;32mraise\u001b[0m \u001b[0mMessageError\u001b[0m\u001b[0;34m(\u001b[0m\u001b[0mreply\u001b[0m\u001b[0;34m[\u001b[0m\u001b[0;34m'error'\u001b[0m\u001b[0;34m]\u001b[0m\u001b[0;34m)\u001b[0m\u001b[0;34m\u001b[0m\u001b[0;34m\u001b[0m\u001b[0m\n\u001b[0m\u001b[1;32m    107\u001b[0m       \u001b[0;32mreturn\u001b[0m \u001b[0mreply\u001b[0m\u001b[0;34m.\u001b[0m\u001b[0mget\u001b[0m\u001b[0;34m(\u001b[0m\u001b[0;34m'data'\u001b[0m\u001b[0;34m,\u001b[0m \u001b[0;32mNone\u001b[0m\u001b[0;34m)\u001b[0m\u001b[0;34m\u001b[0m\u001b[0;34m\u001b[0m\u001b[0m\n\u001b[1;32m    108\u001b[0m \u001b[0;34m\u001b[0m\u001b[0m\n",
            "\u001b[0;31mMessageError\u001b[0m: Error: credential propagation was unsuccessful"
          ]
        }
      ]
    },
    {
      "cell_type": "markdown",
      "source": [
        "# Import everything what is needed for experiment"
      ],
      "metadata": {
        "id": "1rawIr2txBCb"
      }
    },
    {
      "cell_type": "code",
      "execution_count": null,
      "metadata": {
        "id": "HCnD9KiSxG-T"
      },
      "outputs": [],
      "source": [
        "import sys\n",
        "import os\n",
        "import HailProject.code.src.data_processing as dp\n",
        "from HailProject.code.src.utils import *\n",
        "from scipy import signal\n",
        "import numpy as np\n",
        "from matplotlib import pyplot as plt\n",
        "import torch\n",
        "from HailProject.code.model.losses import EVL\n",
        "from HailProject.code.model.HailNet import HailNet, train\n",
        "from torch.optim import Adam, SGD\n",
        "from sklearn.metrics import accuracy_score, classification_report\n",
        "from HailProject.code.model.HailNet import test"
      ]
    },
    {
      "cell_type": "markdown",
      "metadata": {
        "id": "sYpEjfuR7Tzm"
      },
      "source": [
        "# Vizualize the data"
      ]
    },
    {
      "cell_type": "code",
      "execution_count": null,
      "metadata": {
        "id": "mXakCU5r7WlK"
      },
      "outputs": [],
      "source": [
        "feature_names = ['runoff']\n",
        "numpys_26 = dp.get_nps(feature_names, \"drive/MyDrive/Data/Hail/2017-6-29/*.tif\") \n",
        "numpys_25 = dp.get_nps(feature_names, \"drive/MyDrive/Data/No Hail/2017-5-10/*.tif\") \n",
        "tmean_26 = np.nan_to_num(numpys_26['runoff'])\n",
        "tmean_25 = np.nan_to_num(numpys_25['runoff'])\n",
        "print(\"2006-5-8\")\n",
        "print(\"Number of dimensions: \", len(tmean_26.shape))\n",
        "print(\"First dimension: time - \", tmean_26.shape[0], \" - hours\")\n",
        "print(\"Second dimension: longtitude - \", tmean_26.shape[1], \" - pixels (points)\")\n",
        "print(\"Third dimension: latitude - \", tmean_26.shape[2], \" - pixels (points)\")\n",
        "print(\"2006-5-16\")\n",
        "print(\"Number of dimensions: \", len(tmean_25.shape))\n",
        "print(\"First dimension: time - \", tmean_25.shape[0], \" - hours\")\n",
        "print(\"Second dimension: longtitude - \", tmean_25.shape[1], \" - pixels (points)\")\n",
        "print(\"Third dimension: latitude - \", tmean_25.shape[2], \" - pixels (points)\")\n",
        "for i in range(12):\n",
        "    plt.figure(figsize=(10, 5))\n",
        "    plt.imshow(tmean_25[i], cmap='hot', interpolation='nearest')\n",
        "    plt.show()\n",
        "print(\"_______________________________________________________________\")\n",
        "for i in range(12):\n",
        "    plt.figure(figsize=(10, 5))\n",
        "    plt.imshow(tmean_26[i], cmap='hot', interpolation='nearest')\n",
        "    plt.show()"
      ]
    },
    {
      "cell_type": "markdown",
      "source": [
        "# Training model\n"
      ],
      "metadata": {
        "id": "LLsGer_fxfFO"
      }
    },
    {
      "cell_type": "code",
      "execution_count": null,
      "metadata": {
        "colab": {
          "base_uri": "https://localhost:8080/"
        },
        "id": "u-0zW4NwG83D",
        "outputId": "a922e64b-edb9-45cf-ae1b-84139492c083"
      },
      "outputs": [
        {
          "output_type": "stream",
          "name": "stdout",
          "text": [
            "\n",
            "Macro-Epoch: 1\n",
            "\n",
            "Epoch: 0 | Loss: 0.6812788248062134\n",
            "\n",
            "Macro-Epoch: 2\n",
            "\n",
            "Epoch: 0 | Loss: 0.4957490861415863\n",
            "\n",
            "Macro-Epoch: 3\n",
            "\n",
            "Epoch: 0 | Loss: 0.6858793497085571\n",
            "\n",
            "Macro-Epoch: 4\n",
            "\n",
            "Epoch: 0 | Loss: 0.33934760093688965\n",
            "\n",
            "Macro-Epoch: 5\n",
            "\n",
            "Epoch: 0 | Loss: 0.25601550936698914\n",
            "\n",
            "Macro-Epoch: 6\n",
            "\n",
            "Epoch: 0 | Loss: 0.19408318400382996\n",
            "\n",
            "Macro-Epoch: 7\n",
            "\n",
            "Epoch: 0 | Loss: 0.15692977607250214\n",
            "\n",
            "Macro-Epoch: 8\n",
            "\n",
            "Epoch: 0 | Loss: 0.664310097694397\n",
            "\n",
            "Macro-Epoch: 9\n",
            "\n",
            "Epoch: 0 | Loss: 0.6323258876800537\n",
            "\n",
            "Macro-Epoch: 10\n",
            "\n",
            "Epoch: 0 | Loss: 0.11481376737356186\n"
          ]
        }
      ],
      "source": [
        "num_epochs = 1 \n",
        "n = 2\n",
        "long = 359\n",
        "lat = 533\n",
        "gru_hidden_size = 16 * 16\n",
        "gru_hidden_layers = 1\n",
        "\n",
        "device = torch.device('cuda' if torch.cuda.is_available() else 'cpu')\n",
        "model = HailNet(n, long, lat, gru_hidden_size, gru_hidden_layers)\n",
        "loss_fn = torch.nn.BCELoss()\n",
        "loss_fn.to(device)\n",
        "model = model.to(device)\n",
        "opt_adam = Adam(model.parameters(), lr=5e-4)\n",
        "macroepoch = 10\n",
        "for i in range(1, macroepoch + 1):\n",
        "\n",
        "    print(f\"\\nMacro-Epoch: {i}\\n\")\n",
        "\n",
        "    tdl, _ = dp.get_dataloader(feature_names = [\n",
        "      'dewpoint_temperature_2m',\n",
        "      'runoff'\n",
        "      ],\n",
        "      data_path=\"drive/MyDrive/Data\",\n",
        "      eco=True,\n",
        "      part=i)\n",
        "    \n",
        "    losses_adam = train(num_epochs, model, loss_fn, opt_adam, tdl)"
      ]
    },
    {
      "cell_type": "markdown",
      "source": [
        "# Testing model "
      ],
      "metadata": {
        "id": "ZpWaHBM60Tts"
      }
    },
    {
      "cell_type": "code",
      "execution_count": null,
      "metadata": {
        "id": "OCYri8YRRW5f"
      },
      "outputs": [],
      "source": [
        "predictions = []\n",
        "true_values = []\n",
        "macroepoch = 24\n",
        "for i in range(11, macroepoch + 1):\n",
        "    try:\n",
        "      tdl_test, x1 = dp.get_dataloader(feature_names = [\n",
        "        'dewpoint_temperature_2m',\n",
        "        'runoff'\n",
        "        ],\n",
        "        data_path=\"drive/MyDrive/Data\",\n",
        "        eco=True,\n",
        "        train=False,\n",
        "        part=i,\n",
        "        )\n",
        "      \n",
        "      preds, trues = test(model, tdl_test, [\"accuracy\"], {\"accuracy\": accuracy_score})\n",
        "      predictions = predictions + preds\n",
        "      true_values = true_values + trues \n",
        "    except NotImplementedError:\n",
        "      pass"
      ]
    },
    {
      "cell_type": "code",
      "source": [
        "predictions_ = torch.cat(predictions)\n",
        "true_values_ = torch.cat(true_values)\n",
        "threshold = 0.16\n",
        "for i in range(predictions_.shape[0]):\n",
        "    if predictions_[i] < threshold:\n",
        "        predictions_[i] = 0\n",
        "    else:\n",
        "        predictions_[i] = 1\n",
        "print(classification_report(np.array(true_values_.cpu()), predictions_.cpu().numpy().squeeze(), target_names=[\"No Hail\", \"Hail\"]))"
      ],
      "metadata": {
        "id": "xZTK7YAGxVsy",
        "colab": {
          "base_uri": "https://localhost:8080/"
        },
        "outputId": "57b99f35-4f97-4b75-deaa-6eb7774c1115"
      },
      "execution_count": null,
      "outputs": [
        {
          "output_type": "stream",
          "name": "stdout",
          "text": [
            "              precision    recall  f1-score   support\n",
            "\n",
            "     No Hail       0.97      1.00      0.98       140\n",
            "        Hail       1.00      0.64      0.78        14\n",
            "\n",
            "    accuracy                           0.97       154\n",
            "   macro avg       0.98      0.82      0.88       154\n",
            "weighted avg       0.97      0.97      0.96       154\n",
            "\n"
          ]
        }
      ]
    },
    {
      "cell_type": "code",
      "source": [
        ""
      ],
      "metadata": {
        "id": "x9fLr5gSAU9J"
      },
      "execution_count": null,
      "outputs": []
    }
  ],
  "metadata": {
    "colab": {
      "collapsed_sections": [],
      "name": "HailNetColabExperiments.ipynb",
      "provenance": []
    },
    "kernelspec": {
      "display_name": "Python 3",
      "name": "python3"
    },
    "language_info": {
      "name": "python"
    },
    "accelerator": "GPU"
  },
  "nbformat": 4,
  "nbformat_minor": 0
}