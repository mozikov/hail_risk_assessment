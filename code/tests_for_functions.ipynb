{
 "cells": [
  {
   "cell_type": "code",
   "execution_count": 1,
   "id": "younger-initial",
   "metadata": {},
   "outputs": [],
   "source": [
    "import sys\n",
    "import os\n",
    "import src.data_processing as dp\n",
    "from src.utils import *\n",
    "from scipy import signal\n",
    "import numpy as np\n",
    "from matplotlib import pyplot as plt\n",
    "import torch\n",
    "from model.losses import EVL\n",
    "from model.HailNet import HailNet"
   ]
  },
  {
   "cell_type": "code",
   "execution_count": 8,
   "id": "infrared-throat",
   "metadata": {},
   "outputs": [],
   "source": [
    "target_adygeya, data = dp.get_target((1991, 2021), region = 'Республика Адыгея', freq=\"Daily\")\n",
    "target_kras, data = dp.get_target((1991, 2021), region = 'Краснодарский край', freq=\"Daily\")"
   ]
  },
  {
   "cell_type": "code",
   "execution_count": 14,
   "id": "pursuant-hobby",
   "metadata": {},
   "outputs": [],
   "source": [
    "subjects = data[data[\"Название явления \"] == \"Град\"][[\"Субъект Российской Федерации \"]].groupby(by = \"Субъект Российской Федерации \").count()"
   ]
  },
  {
   "cell_type": "code",
   "execution_count": 4,
   "id": "medical-training",
   "metadata": {},
   "outputs": [
    {
     "name": "stdout",
     "output_type": "stream",
     "text": [
      "Субъект Российской Федерации       \n",
      "Краснодарский край                     93\n",
      "Ставропольский край                    87\n",
      "Республика Северная Осетия - Алания    48\n",
      "Карачаево-Черкесская Республика        32\n",
      "Кабардино-Балкарская Республика        32\n",
      "                                       ..\n",
      "Брянская область                        1\n",
      "Удмуртcкая Республика                   1\n",
      "Владимирская область                    1\n",
      "Республика Карелия                      1\n",
      "Ярославская область                     1\n",
      "Length: 62, dtype: int64\n"
     ]
    }
   ],
   "source": [
    "print(data[data[\"Название явления \"] == \"Град\"][[\"Субъект Российской Федерации \"]].value_counts())"
   ]
  },
  {
   "cell_type": "code",
   "execution_count": 11,
   "id": "convinced-energy",
   "metadata": {},
   "outputs": [
    {
     "data": {
      "text/plain": [
       "DatetimeIndex(['1992-06-27', '1992-07-17', '1994-04-21', '1994-06-09',\n",
       "               '1999-08-03', '2000-09-07', '2001-06-21', '2002-05-30',\n",
       "               '2004-06-01', '2004-06-07', '2005-06-01', '2005-08-18',\n",
       "               '2006-06-08', '2006-06-16', '2007-05-25', '2007-08-08',\n",
       "               '2007-08-16', '2007-09-08', '2008-04-28', '2008-07-02',\n",
       "               '2008-07-06', '2008-07-26', '2008-08-19', '2009-06-04',\n",
       "               '2009-06-12', '2009-06-22', '2009-06-27', '2009-06-30',\n",
       "               '2009-09-05', '2010-05-15', '2010-05-17', '2010-05-18',\n",
       "               '2010-05-23', '2010-06-05', '2010-06-23', '2011-06-26',\n",
       "               '2011-07-04', '2011-08-02', '2011-08-16', '2011-09-01',\n",
       "               '2012-05-17', '2012-05-21', '2012-05-31', '2012-06-16',\n",
       "               '2012-07-19', '2013-05-14', '2013-05-25', '2013-06-01',\n",
       "               '2013-06-07', '2013-06-15', '2013-07-01', '2013-09-20',\n",
       "               '2014-05-18', '2014-05-19', '2014-06-09', '2014-06-11',\n",
       "               '2014-06-20', '2015-05-29', '2015-05-30', '2015-06-01',\n",
       "               '2015-06-23', '2015-08-18', '2015-08-19', '2016-04-26',\n",
       "               '2016-05-15', '2016-06-23', '2016-06-30', '2016-07-19',\n",
       "               '2016-08-13', '2016-08-25', '2016-08-26', '2017-06-27',\n",
       "               '2017-07-04', '2017-09-06', '2018-06-29', '2018-06-30',\n",
       "               '2018-07-01', '2018-07-25', '2018-07-30', '2018-10-02',\n",
       "               '2019-05-11', '2019-06-23', '2019-09-06', '2020-06-15',\n",
       "               '2020-06-17', '2020-08-13', '2020-08-28', '2020-09-06',\n",
       "               '2021-06-01', '2021-06-16', '2021-06-25', '2021-06-26',\n",
       "               '2021-09-01'],\n",
       "              dtype='datetime64[ns]', freq=None)"
      ]
     },
     "execution_count": 11,
     "metadata": {},
     "output_type": "execute_result"
    }
   ],
   "source": [
    "target_kras[target_kras[\"target\"] == 1].index"
   ]
  },
  {
   "cell_type": "code",
   "execution_count": 9,
   "id": "extra-dressing",
   "metadata": {},
   "outputs": [
    {
     "data": {
      "text/html": [
       "<div>\n",
       "<style scoped>\n",
       "    .dataframe tbody tr th:only-of-type {\n",
       "        vertical-align: middle;\n",
       "    }\n",
       "\n",
       "    .dataframe tbody tr th {\n",
       "        vertical-align: top;\n",
       "    }\n",
       "\n",
       "    .dataframe thead th {\n",
       "        text-align: right;\n",
       "    }\n",
       "</style>\n",
       "<table border=\"1\" class=\"dataframe\">\n",
       "  <thead>\n",
       "    <tr style=\"text-align: right;\">\n",
       "      <th></th>\n",
       "      <th>target</th>\n",
       "    </tr>\n",
       "  </thead>\n",
       "  <tbody>\n",
       "    <tr>\n",
       "      <th>2000-09-07</th>\n",
       "      <td>1</td>\n",
       "    </tr>\n",
       "    <tr>\n",
       "      <th>2002-05-30</th>\n",
       "      <td>1</td>\n",
       "    </tr>\n",
       "    <tr>\n",
       "      <th>2004-06-08</th>\n",
       "      <td>1</td>\n",
       "    </tr>\n",
       "    <tr>\n",
       "      <th>2006-05-09</th>\n",
       "      <td>1</td>\n",
       "    </tr>\n",
       "    <tr>\n",
       "      <th>2006-06-08</th>\n",
       "      <td>1</td>\n",
       "    </tr>\n",
       "    <tr>\n",
       "      <th>2007-06-19</th>\n",
       "      <td>1</td>\n",
       "    </tr>\n",
       "    <tr>\n",
       "      <th>2008-04-17</th>\n",
       "      <td>1</td>\n",
       "    </tr>\n",
       "    <tr>\n",
       "      <th>2009-06-13</th>\n",
       "      <td>1</td>\n",
       "    </tr>\n",
       "    <tr>\n",
       "      <th>2009-07-13</th>\n",
       "      <td>1</td>\n",
       "    </tr>\n",
       "    <tr>\n",
       "      <th>2011-07-04</th>\n",
       "      <td>1</td>\n",
       "    </tr>\n",
       "    <tr>\n",
       "      <th>2011-08-02</th>\n",
       "      <td>1</td>\n",
       "    </tr>\n",
       "    <tr>\n",
       "      <th>2013-06-15</th>\n",
       "      <td>1</td>\n",
       "    </tr>\n",
       "    <tr>\n",
       "      <th>2013-07-01</th>\n",
       "      <td>1</td>\n",
       "    </tr>\n",
       "    <tr>\n",
       "      <th>2014-05-01</th>\n",
       "      <td>1</td>\n",
       "    </tr>\n",
       "    <tr>\n",
       "      <th>2015-08-19</th>\n",
       "      <td>1</td>\n",
       "    </tr>\n",
       "    <tr>\n",
       "      <th>2016-06-30</th>\n",
       "      <td>1</td>\n",
       "    </tr>\n",
       "    <tr>\n",
       "      <th>2017-05-30</th>\n",
       "      <td>1</td>\n",
       "    </tr>\n",
       "    <tr>\n",
       "      <th>2017-07-29</th>\n",
       "      <td>1</td>\n",
       "    </tr>\n",
       "    <tr>\n",
       "      <th>2019-05-19</th>\n",
       "      <td>1</td>\n",
       "    </tr>\n",
       "    <tr>\n",
       "      <th>2019-06-16</th>\n",
       "      <td>1</td>\n",
       "    </tr>\n",
       "    <tr>\n",
       "      <th>2020-06-17</th>\n",
       "      <td>1</td>\n",
       "    </tr>\n",
       "    <tr>\n",
       "      <th>2020-07-27</th>\n",
       "      <td>1</td>\n",
       "    </tr>\n",
       "    <tr>\n",
       "      <th>2021-05-17</th>\n",
       "      <td>1</td>\n",
       "    </tr>\n",
       "    <tr>\n",
       "      <th>2021-09-12</th>\n",
       "      <td>1</td>\n",
       "    </tr>\n",
       "  </tbody>\n",
       "</table>\n",
       "</div>"
      ],
      "text/plain": [
       "            target\n",
       "2000-09-07       1\n",
       "2002-05-30       1\n",
       "2004-06-08       1\n",
       "2006-05-09       1\n",
       "2006-06-08       1\n",
       "2007-06-19       1\n",
       "2008-04-17       1\n",
       "2009-06-13       1\n",
       "2009-07-13       1\n",
       "2011-07-04       1\n",
       "2011-08-02       1\n",
       "2013-06-15       1\n",
       "2013-07-01       1\n",
       "2014-05-01       1\n",
       "2015-08-19       1\n",
       "2016-06-30       1\n",
       "2017-05-30       1\n",
       "2017-07-29       1\n",
       "2019-05-19       1\n",
       "2019-06-16       1\n",
       "2020-06-17       1\n",
       "2020-07-27       1\n",
       "2021-05-17       1\n",
       "2021-09-12       1"
      ]
     },
     "execution_count": 9,
     "metadata": {},
     "output_type": "execute_result"
    }
   ],
   "source": [
    "target_adygeya[target_adygeya[\"target\"] == 1]"
   ]
  },
  {
   "cell_type": "code",
   "execution_count": 39,
   "id": "sticky-medicaid",
   "metadata": {},
   "outputs": [
    {
     "data": {
      "text/plain": [
       "array([ 8,  2,  6, 20, 29,  0,  6,  0, 17,  7, 15, 24,  7, 15,  7, 27,  1,\n",
       "        5, 25, 18,  3, 11, 21, 26, 29,  4, 14, 16, 17, 22,  4, 22, 25,  3,\n",
       "        1, 15,  0, 16, 20, 30, 15, 18, 13, 24,  0,  6, 14,  0, 19, 17, 18,\n",
       "        8, 10, 19, 28, 29,  0, 22, 17, 18, 25, 14, 22, 29, 18, 12, 24, 25,\n",
       "       26,  3,  5, 28, 29,  0, 24, 29,  1, 10, 22,  5, 14, 16, 12, 27,  5,\n",
       "        0, 15, 24, 25,  0])"
      ]
     },
     "execution_count": 39,
     "metadata": {},
     "output_type": "execute_result"
    }
   ],
   "source": [
    "a - 1"
   ]
  },
  {
   "cell_type": "code",
   "execution_count": 43,
   "id": "expanded-indonesia",
   "metadata": {},
   "outputs": [],
   "source": [
    "aq = np.array([  9,  3,  7, 21, 30,  1,  7,  1, 18,  8, 16, 25,  8, 16,\n",
    "             8, 28,  2,  6, 26, 19,  4, 12, 22, 27, 30,  5, 15, 17, 18, 23,  5,\n",
    "            23, 26,  4,  2, 16,  1, 17, 21, 31, 16, 19, 14, 25,  1,  7, 15,  1,\n",
    "            20, 18, 19,  9, 11, 20, 29, 30,  1, 23, 18, 19, 26, 15, 23, 30, 19,\n",
    "            13, 25, 26, 27,  4,  6, 29, 30,  1, 25, 30,  2, 11, 23,  6, 15, 17,\n",
    "            13, 28,  6,  1, 16, 25, 26,  1])\n",
    "\n",
    "\n",
    "a = np.append(aq - 1, aq + 1)"
   ]
  },
  {
   "cell_type": "code",
   "execution_count": 49,
   "id": "several-policy",
   "metadata": {},
   "outputs": [
    {
     "data": {
      "text/plain": [
       "array([ 8,  2,  6, 20, 29,  0,  6,  0, 17,  7, 15, 24,  7, 15,  7, 27,  1,\n",
       "        5, 25, 18,  3, 11, 21, 26, 29,  4, 14, 16, 17, 22,  4, 22, 25,  3,\n",
       "        1, 15,  0, 16, 20, 30, 15, 18, 13, 24,  0,  6, 14,  0, 19, 17, 18,\n",
       "        8, 10, 19, 28, 29,  0, 22, 17, 18, 25, 14, 22, 29, 18, 12, 24, 25,\n",
       "       26,  3,  5, 28, 29,  0, 24, 29,  1, 10, 22,  5, 14, 16, 12, 27,  5,\n",
       "        0, 15, 24, 25,  0, 10,  4,  8, 22, 31,  2,  8,  2, 19,  9, 17, 26,\n",
       "        9, 17,  9, 29,  3,  7, 27, 20,  5, 13, 23, 28, 31,  6, 16, 18, 19,\n",
       "       24,  6, 24, 27,  5,  3, 17,  2, 18, 22, 32, 17, 20, 15, 26,  2,  8,\n",
       "       16,  2, 21, 19, 20, 10, 12, 21, 30, 31,  2, 24, 19, 20, 27, 16, 24,\n",
       "       31, 20, 14, 26, 27, 28,  5,  7, 30, 31,  2, 26, 31,  3, 12, 24,  7,\n",
       "       16, 18, 14, 29,  7,  2, 17, 26, 27,  2])"
      ]
     },
     "execution_count": 49,
     "metadata": {},
     "output_type": "execute_result"
    }
   ],
   "source": [
    "a"
   ]
  },
  {
   "cell_type": "code",
   "execution_count": 11,
   "id": "illegal-somerset",
   "metadata": {},
   "outputs": [
    {
     "name": "stdout",
     "output_type": "stream",
     "text": [
      "Hello, motherfucker!!!\n"
     ]
    }
   ],
   "source": [
    "feature_names = [\"mean_2m_air_temperature\"]\n",
    "x, y = dp.get_traindl((2001, 2002), feature_names, \"data/Tambov\", sequence_length = 12,  freq=\"Monthly\")"
   ]
  },
  {
   "cell_type": "code",
   "execution_count": 10,
   "id": "hungry-hanging",
   "metadata": {},
   "outputs": [],
   "source": [
    "for (xb, yb) in x:\n",
    "    print(xb.shape)\n",
    "    break"
   ]
  },
  {
   "cell_type": "code",
   "execution_count": 12,
   "id": "considered-badge",
   "metadata": {},
   "outputs": [
    {
     "data": {
      "text/plain": [
       "torch.Size([12, 12, 1, 234, 346])"
      ]
     },
     "execution_count": 12,
     "metadata": {},
     "output_type": "execute_result"
    }
   ],
   "source": [
    "y.shape"
   ]
  },
  {
   "cell_type": "code",
   "execution_count": 4,
   "id": "integrated-addition",
   "metadata": {},
   "outputs": [
    {
     "name": "stdout",
     "output_type": "stream",
     "text": [
      "Alright!\n"
     ]
    }
   ],
   "source": [
    "import os\n",
    "import glob\n",
    "\n",
    "dir_path = \"data/Krasnodarskiy/No Hail/\"\n",
    "paths = glob.glob(dir_path + \"*\")\n",
    "for p in paths:\n",
    "    if len(os.listdir(p)) != 9:\n",
    "        print(p)\n",
    "        #raise ValueError(\"alarm\")\n",
    "print(\"Alright!\")"
   ]
  },
  {
   "cell_type": "code",
   "execution_count": 14,
   "id": "cheap-scanner",
   "metadata": {},
   "outputs": [
    {
     "name": "stdout",
     "output_type": "stream",
     "text": [
      "set()\n"
     ]
    }
   ],
   "source": [
    "no_hail_dir_path = \"data/Krasnodarskiy/No Hail/\"\n",
    "hail_dir_path = \"data/Krasnodarskiy/Hail/\"\n",
    "hail_paths = glob.glob(hail_dir_path + \"*\")\n",
    "no_hail_paths = glob.glob(no_hail_dir_path + \"*\")\n",
    "intersection = set(hail_paths).intersection(no_hail_paths) \n",
    "print(intersection)"
   ]
  },
  {
   "cell_type": "code",
   "execution_count": 15,
   "id": "simple-scroll",
   "metadata": {},
   "outputs": [
    {
     "name": "stdout",
     "output_type": "stream",
     "text": [
      "set()\n"
     ]
    }
   ],
   "source": [
    "hail_dates = [p[-9:] for p in hail_paths]\n",
    "no_hail_dates = [p[-9:] for p in no_hail_paths]\n",
    "intersection = set(hail_dates).intersection(no_hail_dates) \n",
    "print(intersection)"
   ]
  },
  {
   "cell_type": "code",
   "execution_count": 2,
   "id": "metallic-cooling",
   "metadata": {},
   "outputs": [
    {
     "ename": "RuntimeError",
     "evalue": "[enforce fail at C:\\actions-runner\\_work\\pytorch\\pytorch\\builder\\windows\\pytorch\\c10\\core\\impl\\alloc_cpu.cpp:81] data. DefaultCPUAllocator: not enough memory: you tried to allocate 4959714240 bytes.",
     "output_type": "error",
     "traceback": [
      "\u001b[1;31m---------------------------------------------------------------------------\u001b[0m",
      "\u001b[1;31mRuntimeError\u001b[0m                              Traceback (most recent call last)",
      "\u001b[1;32m<ipython-input-2-84a4250400a6>\u001b[0m in \u001b[0;36m<module>\u001b[1;34m\u001b[0m\n\u001b[1;32m----> 1\u001b[1;33m tdl, x = dp.get_traindl(feature_names = [\n\u001b[0m\u001b[0;32m      2\u001b[0m   \u001b[1;34m'dewpoint_temperature_2m'\u001b[0m\u001b[1;33m,\u001b[0m\u001b[1;33m\u001b[0m\u001b[1;33m\u001b[0m\u001b[0m\n\u001b[0;32m      3\u001b[0m   \u001b[1;34m'runoff'\u001b[0m\u001b[1;33m,\u001b[0m\u001b[1;33m\u001b[0m\u001b[1;33m\u001b[0m\u001b[0m\n\u001b[0;32m      4\u001b[0m   \u001b[1;34m'snowmelt'\u001b[0m\u001b[1;33m,\u001b[0m\u001b[1;33m\u001b[0m\u001b[1;33m\u001b[0m\u001b[0m\n\u001b[0;32m      5\u001b[0m   \u001b[1;34m'snowfall'\u001b[0m\u001b[1;33m,\u001b[0m\u001b[1;33m\u001b[0m\u001b[1;33m\u001b[0m\u001b[0m\n",
      "\u001b[1;32m~\\OneDrive\\Рабочий стол\\Учебные моменты\\ИАД\\2022-Project-94\\code\\src\\data_processing.py\u001b[0m in \u001b[0;36mget_traindl\u001b[1;34m(forecasting_period, feature_names, data_path, target_path, batch_size, sequence_length, long, lat, freq, eco, eco_len)\u001b[0m\n\u001b[0;32m    192\u001b[0m             \u001b[0mxs\u001b[0m\u001b[1;33m.\u001b[0m\u001b[0mappend\u001b[0m\u001b[1;33m(\u001b[0m\u001b[0mx\u001b[0m\u001b[1;33m)\u001b[0m\u001b[1;33m\u001b[0m\u001b[1;33m\u001b[0m\u001b[0m\n\u001b[0;32m    193\u001b[0m \u001b[1;33m\u001b[0m\u001b[0m\n\u001b[1;32m--> 194\u001b[1;33m         \u001b[0mx\u001b[0m \u001b[1;33m=\u001b[0m \u001b[0mtorch\u001b[0m\u001b[1;33m.\u001b[0m\u001b[0mcat\u001b[0m\u001b[1;33m(\u001b[0m\u001b[0mxs\u001b[0m\u001b[1;33m,\u001b[0m \u001b[0mdim\u001b[0m\u001b[1;33m=\u001b[0m\u001b[1;36m0\u001b[0m\u001b[1;33m)\u001b[0m\u001b[1;33m\u001b[0m\u001b[1;33m\u001b[0m\u001b[0m\n\u001b[0m\u001b[0;32m    195\u001b[0m         \u001b[1;31m# return x\u001b[0m\u001b[1;33m\u001b[0m\u001b[1;33m\u001b[0m\u001b[1;33m\u001b[0m\u001b[0m\n\u001b[0;32m    196\u001b[0m         \u001b[1;32mif\u001b[0m \u001b[0meco\u001b[0m \u001b[1;32mis\u001b[0m \u001b[1;32mTrue\u001b[0m\u001b[1;33m:\u001b[0m\u001b[1;33m\u001b[0m\u001b[1;33m\u001b[0m\u001b[0m\n",
      "\u001b[1;31mRuntimeError\u001b[0m: [enforce fail at C:\\actions-runner\\_work\\pytorch\\pytorch\\builder\\windows\\pytorch\\c10\\core\\impl\\alloc_cpu.cpp:81] data. DefaultCPUAllocator: not enough memory: you tried to allocate 4959714240 bytes."
     ]
    }
   ],
   "source": [
    "tdl, x = dp.get_traindl(feature_names = [\n",
    "  'dewpoint_temperature_2m',\n",
    "  'runoff', \n",
    "  'snowmelt',\n",
    "  'snowfall', \n",
    "  'surface_latent_heat_flux',\n",
    "  'potential_evaporation',\n",
    "  'soil_temperature_level_1',\n",
    "  'surface_net_solar_radiation', \n",
    "  'surface_solar_radiation_downwards'\n",
    "  ])"
   ]
  },
  {
   "cell_type": "code",
   "execution_count": 4,
   "id": "ranging-rubber",
   "metadata": {},
   "outputs": [
    {
     "data": {
      "text/plain": [
       "torch.Size([15, 5, 359, 533])"
      ]
     },
     "execution_count": 4,
     "metadata": {},
     "output_type": "execute_result"
    }
   ],
   "source": [
    "x[:, 0].shape"
   ]
  },
  {
   "cell_type": "code",
   "execution_count": 4,
   "id": "focal-briefing",
   "metadata": {},
   "outputs": [
    {
     "data": {
      "text/plain": [
       "93"
      ]
     },
     "execution_count": 4,
     "metadata": {},
     "output_type": "execute_result"
    }
   ],
   "source": [
    "len(y)"
   ]
  },
  {
   "cell_type": "code",
   "execution_count": 13,
   "id": "faced-pride",
   "metadata": {},
   "outputs": [
    {
     "ename": "TypeError",
     "evalue": "'DataLoader' object is not subscriptable",
     "output_type": "error",
     "traceback": [
      "\u001b[1;31m---------------------------------------------------------------------------\u001b[0m",
      "\u001b[1;31mTypeError\u001b[0m                                 Traceback (most recent call last)",
      "\u001b[1;32m<ipython-input-13-9e911b65308b>\u001b[0m in \u001b[0;36m<module>\u001b[1;34m\u001b[0m\n\u001b[1;32m----> 1\u001b[1;33m \u001b[0mx\u001b[0m\u001b[1;33m[\u001b[0m\u001b[1;36m0\u001b[0m\u001b[1;33m]\u001b[0m\u001b[1;33m.\u001b[0m\u001b[0mshape\u001b[0m\u001b[1;33m\u001b[0m\u001b[1;33m\u001b[0m\u001b[0m\n\u001b[0m",
      "\u001b[1;31mTypeError\u001b[0m: 'DataLoader' object is not subscriptable"
     ]
    }
   ],
   "source": [
    "x[0].shape"
   ]
  },
  {
   "cell_type": "code",
   "execution_count": 17,
   "id": "associate-protection",
   "metadata": {},
   "outputs": [
    {
     "data": {
      "text/plain": [
       "tensor([[1, 2, 2, 3],\n",
       "        [3, 4, 4, 4]])"
      ]
     },
     "execution_count": 17,
     "metadata": {},
     "output_type": "execute_result"
    }
   ],
   "source": [
    "x = torch.tensor([[1, 2], [3,4]])\n",
    "y = torch.tensor([[2, 3], [4, 4]])\n",
    "a = torch.cat([x, y], dim = 1)\n",
    "a"
   ]
  },
  {
   "cell_type": "code",
   "execution_count": 8,
   "id": "permanent-valve",
   "metadata": {},
   "outputs": [],
   "source": [
    "a = a.reshape(3, 2)"
   ]
  },
  {
   "cell_type": "code",
   "execution_count": 13,
   "id": "quick-grocery",
   "metadata": {},
   "outputs": [
    {
     "data": {
      "text/plain": [
       "tensor([[1, 2, 3],\n",
       "        [2, 3, 4]])"
      ]
     },
     "execution_count": 13,
     "metadata": {},
     "output_type": "execute_result"
    }
   ],
   "source": [
    "a.reshape(2, -1)"
   ]
  },
  {
   "cell_type": "code",
   "execution_count": null,
   "id": "dirty-community",
   "metadata": {},
   "outputs": [],
   "source": [
    "a = "
   ]
  }
 ],
 "metadata": {
  "kernelspec": {
   "display_name": "Python 3",
   "language": "python",
   "name": "python3"
  },
  "language_info": {
   "codemirror_mode": {
    "name": "ipython",
    "version": 3
   },
   "file_extension": ".py",
   "mimetype": "text/x-python",
   "name": "python",
   "nbconvert_exporter": "python",
   "pygments_lexer": "ipython3",
   "version": "3.8.8"
  }
 },
 "nbformat": 4,
 "nbformat_minor": 5
}
