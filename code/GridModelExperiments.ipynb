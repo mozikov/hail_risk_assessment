{
  "cells": [
    {
      "cell_type": "markdown",
      "metadata": {
        "id": "TEsnq2jY9XZo"
      },
      "source": [
        "# Mount Google Drive for data, install libs"
      ]
    },
    {
      "cell_type": "code",
      "execution_count": null,
      "metadata": {
        "id": "5mHALGh79N67"
      },
      "outputs": [],
      "source": [
        "import os\n",
        "os.rename(\"2022-Project-94\", \"HailProject\")"
      ]
    },
    {
      "cell_type": "code",
      "execution_count": 1,
      "metadata": {
        "colab": {
          "base_uri": "https://localhost:8080/"
        },
        "id": "OgcC7NIV_WWX",
        "outputId": "9212557e-1959-475f-af85-33767a74246d"
      },
      "outputs": [
        {
          "name": "stdout",
          "output_type": "stream",
          "text": [
            "Mounted at /content/drive\n"
          ]
        }
      ],
      "source": [
        "from google.colab import drive\n",
        "drive.mount('/content/drive')"
      ]
    },
    {
      "cell_type": "code",
      "execution_count": 2,
      "metadata": {
        "colab": {
          "base_uri": "https://localhost:8080/"
        },
        "id": "eTLlm52_9PM3",
        "outputId": "a06107fe-23a9-40e6-cc70-483c906433f7"
      },
      "outputs": [
        {
          "name": "stdout",
          "output_type": "stream",
          "text": [
            "Looking in indexes: https://pypi.org/simple, https://us-python.pkg.dev/colab-wheels/public/simple/\n",
            "Collecting cfgrib\n",
            "  Downloading cfgrib-0.9.10.1-py3-none-any.whl (45 kB)\n",
            "\u001b[K     |████████████████████████████████| 45 kB 2.6 MB/s \n",
            "\u001b[?25hRequirement already satisfied: attrs>=19.2 in /usr/local/lib/python3.7/dist-packages (from cfgrib) (21.4.0)\n",
            "Requirement already satisfied: click in /usr/local/lib/python3.7/dist-packages (from cfgrib) (7.1.2)\n",
            "Collecting eccodes>=0.9.8\n",
            "  Downloading eccodes-1.4.2.tar.gz (55 kB)\n",
            "\u001b[K     |████████████████████████████████| 55 kB 4.3 MB/s \n",
            "\u001b[?25hRequirement already satisfied: numpy in /usr/local/lib/python3.7/dist-packages (from cfgrib) (1.21.6)\n",
            "Requirement already satisfied: cffi in /usr/local/lib/python3.7/dist-packages (from eccodes>=0.9.8->cfgrib) (1.15.1)\n",
            "Collecting findlibs\n",
            "  Downloading findlibs-0.0.2.tar.gz (6.2 kB)\n",
            "Requirement already satisfied: pycparser in /usr/local/lib/python3.7/dist-packages (from cffi->eccodes>=0.9.8->cfgrib) (2.21)\n",
            "Building wheels for collected packages: eccodes, findlibs\n",
            "  Building wheel for eccodes (setup.py) ... \u001b[?25l\u001b[?25hdone\n",
            "  Created wheel for eccodes: filename=eccodes-1.4.2-py3-none-any.whl size=39817 sha256=665901a37d07e90708ec889c3d94a1502ba89a3543870a19c6d5509e0c5fbc61\n",
            "  Stored in directory: /root/.cache/pip/wheels/5a/c4/e7/37b9d4a30e03d404d4e2f9a280deea683d631f370384a7d500\n",
            "  Building wheel for findlibs (setup.py) ... \u001b[?25l\u001b[?25hdone\n",
            "  Created wheel for findlibs: filename=findlibs-0.0.2-py3-none-any.whl size=6560 sha256=873b0c2352ff1c4a276c29869f4a6200396ecc548db9711d1e3c7eceee0b8c2c\n",
            "  Stored in directory: /root/.cache/pip/wheels/34/e9/92/2a09d5a307252d22fb8d99b13685144b0419d98c36dba7b1c0\n",
            "Successfully built eccodes findlibs\n",
            "Installing collected packages: findlibs, eccodes, cfgrib\n",
            "Successfully installed cfgrib-0.9.10.1 eccodes-1.4.2 findlibs-0.0.2\n",
            "Looking in indexes: https://pypi.org/simple, https://us-python.pkg.dev/colab-wheels/public/simple/\n",
            "Requirement already satisfied: eccodes in /usr/local/lib/python3.7/dist-packages (1.4.2)\n",
            "Requirement already satisfied: findlibs in /usr/local/lib/python3.7/dist-packages (from eccodes) (0.0.2)\n",
            "Requirement already satisfied: cffi in /usr/local/lib/python3.7/dist-packages (from eccodes) (1.15.1)\n",
            "Requirement already satisfied: attrs in /usr/local/lib/python3.7/dist-packages (from eccodes) (21.4.0)\n",
            "Requirement already satisfied: numpy<1.22 in /usr/local/lib/python3.7/dist-packages (from eccodes) (1.21.6)\n",
            "Requirement already satisfied: pycparser in /usr/local/lib/python3.7/dist-packages (from cffi->eccodes) (2.21)\n",
            "Looking in indexes: https://pypi.org/simple, https://us-python.pkg.dev/colab-wheels/public/simple/\n",
            "Collecting ecmwflibs\n",
            "  Downloading ecmwflibs-0.4.17-cp37-cp37m-manylinux_2_17_x86_64.manylinux2014_x86_64.whl (73.4 MB)\n",
            "\u001b[K     |████████████████████████████████| 73.4 MB 15 kB/s \n",
            "\u001b[?25hRequirement already satisfied: findlibs in /usr/local/lib/python3.7/dist-packages (from ecmwflibs) (0.0.2)\n",
            "Installing collected packages: ecmwflibs\n",
            "Successfully installed ecmwflibs-0.4.17\n",
            "Looking in indexes: https://pypi.org/simple, https://us-python.pkg.dev/colab-wheels/public/simple/\n",
            "Requirement already satisfied: xarray in /usr/local/lib/python3.7/dist-packages (0.20.2)\n",
            "Requirement already satisfied: pandas>=1.1 in /usr/local/lib/python3.7/dist-packages (from xarray) (1.3.5)\n",
            "Requirement already satisfied: typing-extensions>=3.7 in /usr/local/lib/python3.7/dist-packages (from xarray) (4.1.1)\n",
            "Requirement already satisfied: importlib-metadata in /usr/local/lib/python3.7/dist-packages (from xarray) (4.12.0)\n",
            "Requirement already satisfied: numpy>=1.18 in /usr/local/lib/python3.7/dist-packages (from xarray) (1.21.6)\n",
            "Requirement already satisfied: python-dateutil>=2.7.3 in /usr/local/lib/python3.7/dist-packages (from pandas>=1.1->xarray) (2.8.2)\n",
            "Requirement already satisfied: pytz>=2017.3 in /usr/local/lib/python3.7/dist-packages (from pandas>=1.1->xarray) (2022.1)\n",
            "Requirement already satisfied: six>=1.5 in /usr/local/lib/python3.7/dist-packages (from python-dateutil>=2.7.3->pandas>=1.1->xarray) (1.15.0)\n",
            "Requirement already satisfied: zipp>=0.5 in /usr/local/lib/python3.7/dist-packages (from importlib-metadata->xarray) (3.8.0)\n",
            "Looking in indexes: https://pypi.org/simple, https://us-python.pkg.dev/colab-wheels/public/simple/\n",
            "Collecting catboost\n",
            "  Downloading catboost-1.0.6-cp37-none-manylinux1_x86_64.whl (76.6 MB)\n",
            "\u001b[K     |████████████████████████████████| 76.6 MB 1.2 MB/s \n",
            "\u001b[?25hRequirement already satisfied: scipy in /usr/local/lib/python3.7/dist-packages (from catboost) (1.7.3)\n",
            "Requirement already satisfied: numpy>=1.16.0 in /usr/local/lib/python3.7/dist-packages (from catboost) (1.21.6)\n",
            "Requirement already satisfied: six in /usr/local/lib/python3.7/dist-packages (from catboost) (1.15.0)\n",
            "Requirement already satisfied: plotly in /usr/local/lib/python3.7/dist-packages (from catboost) (5.5.0)\n",
            "Requirement already satisfied: pandas>=0.24.0 in /usr/local/lib/python3.7/dist-packages (from catboost) (1.3.5)\n",
            "Requirement already satisfied: graphviz in /usr/local/lib/python3.7/dist-packages (from catboost) (0.10.1)\n",
            "Requirement already satisfied: matplotlib in /usr/local/lib/python3.7/dist-packages (from catboost) (3.2.2)\n",
            "Requirement already satisfied: pytz>=2017.3 in /usr/local/lib/python3.7/dist-packages (from pandas>=0.24.0->catboost) (2022.1)\n",
            "Requirement already satisfied: python-dateutil>=2.7.3 in /usr/local/lib/python3.7/dist-packages (from pandas>=0.24.0->catboost) (2.8.2)\n",
            "Requirement already satisfied: cycler>=0.10 in /usr/local/lib/python3.7/dist-packages (from matplotlib->catboost) (0.11.0)\n",
            "Requirement already satisfied: kiwisolver>=1.0.1 in /usr/local/lib/python3.7/dist-packages (from matplotlib->catboost) (1.4.3)\n",
            "Requirement already satisfied: pyparsing!=2.0.4,!=2.1.2,!=2.1.6,>=2.0.1 in /usr/local/lib/python3.7/dist-packages (from matplotlib->catboost) (3.0.9)\n",
            "Requirement already satisfied: typing-extensions in /usr/local/lib/python3.7/dist-packages (from kiwisolver>=1.0.1->matplotlib->catboost) (4.1.1)\n",
            "Requirement already satisfied: tenacity>=6.2.0 in /usr/local/lib/python3.7/dist-packages (from plotly->catboost) (8.0.1)\n",
            "Installing collected packages: catboost\n",
            "Successfully installed catboost-1.0.6\n"
          ]
        }
      ],
      "source": [
        "!pip install cfgrib\n",
        "!pip install eccodes \n",
        "!pip install ecmwflibs\n",
        "!pip install xarray\n",
        "!pip install catboost"
      ]
    },
    {
      "cell_type": "markdown",
      "metadata": {
        "id": "lhcW1OmA9k5A"
      },
      "source": [
        "# Imports, paths, train data and train target"
      ]
    },
    {
      "cell_type": "code",
      "execution_count": null,
      "metadata": {
        "id": "XDE5cz8n-O7k"
      },
      "outputs": [],
      "source": [
        "from HailProject.code.grid_model.model import train_model\n",
        "import HailProject.code.src.data_processing as dp\n",
        "import HailProject.code.src.prepare_target as pt"
      ]
    },
    {
      "cell_type": "code",
      "execution_count": null,
      "metadata": {
        "id": "0q838ROG_ETz"
      },
      "outputs": [],
      "source": [
        "aerology_path = \"drive/MyDrive/hail_data/ERA5_Texas/cutted_aerology\"\n",
        "land_path = \"drive/MyDrive/hail_data/ERA5_Texas/land\"\n",
        "runoff_path = \"drive/MyDrive/hail_data/ERA5_Texas/runoff_only\"\n",
        "extra_feature_path = \"drive/MyDrive/hail_data/ERA5_Texas/land\"\n",
        "target_path = \"drive/MyDrive/hail_data/target_files\""
      ]
    },
    {
      "cell_type": "code",
      "execution_count": null,
      "metadata": {
        "colab": {
          "base_uri": "https://localhost:8080/"
        },
        "id": "elHjSZ4DBf1a",
        "outputId": "de8d0f53-70f3-4702-96b8-7dd098401ced"
      },
      "outputs": [
        {
          "name": "stderr",
          "output_type": "stream",
          "text": [
            "Ignoring index file 'drive/MyDrive/hail_data/ERA5_Texas/runoff_only/adaptor.mars.internal-1657649580.0889146-9595-8-628a165f-5da8-4aad-a03f-d81307c30dbc.grib.923a8.idx' incompatible with GRIB file\n",
            "Ignoring index file 'drive/MyDrive/hail_data/ERA5_Texas/cutted_aerology/adaptor.mars.internal-1657555514.9637768-23951-18-63c4f4e2-a2b7-47ca-927e-962f3990f7ea.grib.923a8.idx' incompatible with GRIB file\n"
          ]
        },
        {
          "name": "stdout",
          "output_type": "stream",
          "text": [
            "Training data:\n",
            "dims: (n_days, n_features, lat, long):  (2192, 42, 41, 65)\n"
          ]
        }
      ],
      "source": [
        "full_train_days = dp.prepare_full_train_data(\n",
        "    aerology_path,\n",
        "    land_path,\n",
        "    runoff_path,\n",
        "    extra_feature_path,\n",
        "    one_day=False\n",
        ")\n",
        "print(\"Training data:\")\n",
        "print(\"dims: (n_days, n_features, lat, long): \", full_train_days.shape)"
      ]
    },
    {
      "cell_type": "code",
      "execution_count": null,
      "metadata": {
        "colab": {
          "base_uri": "https://localhost:8080/"
        },
        "id": "FVtwBjRFNsLk",
        "outputId": "abde68e4-23b4-49ac-9188-d392b5449b44"
      },
      "outputs": [
        {
          "name": "stdout",
          "output_type": "stream",
          "text": [
            "Training target\n",
            "dims: (n_days, lat, long):  (2192, 41, 65)\n"
          ]
        }
      ],
      "source": [
        "target_grid = pt.prepare_target_grid(target_path, (27., 37.), (-109, -93)) \n",
        "print(\"Training target\")\n",
        "print(\"dims: (n_days, lat, long): \", target_grid.shape)"
      ]
    },
    {
      "cell_type": "code",
      "execution_count": null,
      "metadata": {
        "id": "Otickwcw8pSa"
      },
      "outputs": [],
      "source": [
        "# Save train data and target\n",
        "import numpy as np\n",
        "\n",
        "np.save(\"drive/MyDrive/hail_data/for_experiments/target_grid.npy\", target_grid)\n",
        "np.save(\"drive/MyDrive/hail_data/for_experiments/full_train_days.npy\", full_train_days)"
      ]
    },
    {
      "cell_type": "code",
      "execution_count": null,
      "metadata": {
        "colab": {
          "base_uri": "https://localhost:8080/"
        },
        "id": "kC92DYZ1fzM-",
        "outputId": "21f90c0d-8511-4e0a-f12f-7d6a4c0579f2"
      },
      "outputs": [
        {
          "name": "stdout",
          "output_type": "stream",
          "text": [
            "Training data:\n",
            "dims: (n_days, n_features, lat, long):  (2192, 42, 41, 65)\n",
            "Training target\n",
            "dims: (n_days, lat, long):  (2192, 41, 65)\n"
          ]
        }
      ],
      "source": [
        "# Load train data and target\n",
        "import numpy as np\n",
        "\n",
        "target_grid = np.load(\"drive/MyDrive/hail_data/for_experiments/target_grid.npy\")\n",
        "full_train_days = np.load(\"drive/MyDrive/hail_data/for_experiments/full_train_days.npy\")\n",
        "print(\"Training data:\")\n",
        "print(\"dims: (n_days, n_features, lat, long): \", full_train_days.shape)\n",
        "print(\"Training target\")\n",
        "print(\"dims: (n_days, lat, long): \", target_grid.shape)"
      ]
    },
    {
      "cell_type": "markdown",
      "metadata": {
        "id": "XPt6wXWrCTlY"
      },
      "source": [
        "# Train model"
      ]
    },
    {
      "cell_type": "code",
      "execution_count": null,
      "metadata": {
        "id": "htxZ3Bi-5syJ"
      },
      "outputs": [],
      "source": [
        "from catboost import CatBoostClassifier\n",
        "from sklearn.metrics import classification_report\n",
        "\n",
        "split_val = False\n",
        "\n",
        "def train_model(train_data, target_grid, new_train: bool = True, model = None):\n",
        "    if new_train:\n",
        "        model = CatBoostClassifier(\n",
        "            iterations=1000,\n",
        "            learning_rate=0.01,\n",
        "            task_type=\"GPU\",\n",
        "            scale_pos_weight=100\n",
        "        )\n",
        "    x_train = train_data.reshape(-1, train_data.shape[1])\n",
        "    y_train = target_grid.reshape(-1)\n",
        "    model.fit(x_train, y_train)\n",
        "    return model\n",
        "if split_val == True:\n",
        "    x_train, y_train = full_train_days[:1800], target_grid[:1800]\n",
        "    x_val, y_val = full_train_days[1800:], target_grid[1800:]\n",
        "    model = train_model(x_train, y_train)\n",
        "    x_val = x_val.reshape(-1, x_val.shape[1])\n",
        "    y_val = y_val.reshape(-1)\n",
        "    preds_to_val = model.predict(x_val)\n",
        "    print(classification_report(y_val, preds_to_val))"
      ]
    },
    {
      "cell_type": "code",
      "execution_count": null,
      "metadata": {
        "id": "e2BfTGYhlore"
      },
      "outputs": [],
      "source": [
        "model.save_model(\"/content/drive/MyDrive/hail_data/model/model\")"
      ]
    },
    {
      "cell_type": "code",
      "execution_count": 3,
      "metadata": {
        "colab": {
          "base_uri": "https://localhost:8080/"
        },
        "id": "R9j9esbIvw9B",
        "outputId": "9d181ebf-d487-46ca-fea5-2d51216b6387"
      },
      "outputs": [
        {
          "data": {
            "text/plain": [
              "<catboost.core.CatBoostClassifier at 0x7fccb45bafd0>"
            ]
          },
          "execution_count": 3,
          "metadata": {},
          "output_type": "execute_result"
        }
      ],
      "source": [
        "from catboost import CatBoostClassifier\n",
        "model = CatBoostClassifier()\n",
        "model.load_model(\"/content/drive/MyDrive/hail_data/model/model\")"
      ]
    },
    {
      "cell_type": "code",
      "execution_count": 5,
      "metadata": {
        "colab": {
          "base_uri": "https://localhost:8080/"
        },
        "id": "S9v1oNK0CtEr",
        "outputId": "352b34c0-644b-4b5c-d06e-3bc5816e823d"
      },
      "outputs": [
        {
          "name": "stdout",
          "output_type": "stream",
          "text": [
            "Forecasted year:  2022\n",
            "Forecasted year:  2023\n",
            "Forecasted year:  2024\n",
            "Forecasted year:  2025\n",
            "Forecasted year:  2026\n",
            "Forecasted year:  2027\n",
            "Forecasted year:  2028\n",
            "Forecasted year:  2029\n",
            "Forecasted year:  2030\n",
            "Forecasted year:  2031\n",
            "Forecasted year:  2032\n",
            "Forecasted year:  2033\n",
            "Forecasted year:  2034\n",
            "Forecasted year:  2035\n",
            "Forecasted year:  2036\n",
            "Forecasted year:  2037\n",
            "Forecasted year:  2038\n",
            "Forecasted year:  2039\n",
            "Forecasted year:  2040\n",
            "Forecasted year:  2041\n",
            "Forecasted year:  2042\n",
            "Forecasted year:  2043\n",
            "Forecasted year:  2044\n",
            "Forecasted year:  2045\n",
            "Forecasted year:  2046\n",
            "Forecasted year:  2047\n",
            "Forecasted year:  2048\n",
            "Forecasted year:  2049\n",
            "Forecasted year:  2050\n"
          ]
        }
      ],
      "source": [
        "import glob\n",
        "import numpy as np\n",
        "dataset_path = \"/content/drive/MyDrive/hail_data/CMIP/np_cmips_rcp85_r1i1p1\"\n",
        "def check_leap_year(year):\n",
        "    if (year % 400 == 0) and (year % 100 == 0):\n",
        "        return True\n",
        "    elif (year % 4 ==0) and (year % 100 != 0):\n",
        "        return True\n",
        "    else:\n",
        "        return False\n",
        "\n",
        "def inference_model(model, dataset_path):\n",
        "    paths = sorted(glob.glob(dataset_path + \"/*.npy\"))\n",
        "    full_preds = []\n",
        "    years = [year for year in range(2022, 2051)]\n",
        "    for path, year in zip(paths, years):\n",
        "        data = np.load(path)\n",
        "        x_test = data.reshape(-1, data.shape[1])\n",
        "        preds = model.predict_proba(x_test)[:, 1] \n",
        "        preds = preds.reshape((-1, data.shape[2], data.shape[3]), order=\"F\")\n",
        "        full_preds.append(np.expand_dims(np.max(preds, axis=0), axis=0))\n",
        "        print(\"Forecasted year: \", year)\n",
        "    full_preds = np.concatenate(full_preds, axis=0)\n",
        "    return full_preds\n",
        "\n",
        "preds = inference_model(model, dataset_path)"
      ]
    },
    {
      "cell_type": "code",
      "execution_count": null,
      "metadata": {
        "id": "Xi8K0q0ghXNy"
      },
      "outputs": [],
      "source": [
        "np.save(\"drive/MyDrive/hail_data/model/preds.npy\", preds)"
      ]
    },
    {
      "cell_type": "code",
      "execution_count": null,
      "metadata": {
        "id": "BXL4i4f-5NT9"
      },
      "outputs": [],
      "source": [
        "import pandas as pd\n",
        "import numpy as np\n",
        "preds = np.load(\"/content/drive/MyDrive/hail_data/model/preds\")\n",
        "global predictions \n",
        "predictions = preds\n",
        "\n",
        "def cart_prod(x, y, z):\n",
        "    return np.array([[x0, y0, z0] for x0 in x for y0 in y for z0 in z])\n",
        "\n",
        "def change_prob(row):\n",
        "    \"\"\"\n",
        "        Вспомогательная функция для создания датасета для анимации.\n",
        "    \"\"\"\n",
        "    years = [year for year in range(2022, 2047)]\n",
        "    lat_grid = [42.05582, 43.17731, 44.29879, 45.42028, 46.54176, 47.66325, 48.78473,\n",
        "       49.90621, 51.02769, 52.14917, 53.27066, 54.39214, 55.51361, 56.63509,\n",
        "       57.75657, 58.87804, 59.99952, 61.12099, 62.24246, 63.36393, 64.4854 ,\n",
        "       65.60686, 66.72833, 67.84978, 68.97124, 70.09269, 71.21414, 72.33558,\n",
        "       73.45701, 74.57843, 75.69984, 76.82124]\n",
        "    long_grid = [ 19.125,  20.25 ,  21.375,  22.5  ,  23.625,  24.75 ,  25.875,  27.   ,\n",
        "        28.125,  29.25 ,  30.375,  31.5  ,  32.625,  33.75 ,  34.875,  36.   ,\n",
        "        37.125,  38.25 ,  39.375,  40.5  ,  41.625,  42.75 ,  43.875,  45.   ,\n",
        "        46.125,  47.25 ,  48.375,  49.5  ,  50.625,  51.75 ,  52.875,  54.   ,\n",
        "        55.125,  56.25 ,  57.375,  58.5  ,  59.625,  60.75 ,  61.875,  63.   ,\n",
        "        64.125,  65.25 ,  66.375,  67.5  ,  68.625,  69.75 ,  70.875,  72.   ,\n",
        "        73.125,  74.25 ,  75.375,  76.5  ,  77.625,  78.75 ,  79.875,  81.   ,\n",
        "        82.125,  83.25 ,  84.375,  85.5  ,  86.625,  87.75 ,  88.875,  90.   ,\n",
        "        91.125,  92.25 ,  93.375,  94.5  ,  95.625,  96.75 ,  97.875,  99.   ,\n",
        "       100.125, 101.25 , 102.375, 103.5  , 104.625, 105.75 , 106.875, 108.   ,\n",
        "       109.125, 110.25 , 111.375, 112.5  , 113.625, 114.75 , 115.875, 117.   ,\n",
        "       118.125, 119.25 , 120.375, 121.5  , 122.625, 123.75 , 124.875, 126.   ,\n",
        "       127.125, 128.25 , 129.375, 130.5  , 131.625, 132.75 , 133.875, 135.   ,\n",
        "       136.125, 137.25 , 138.375, 139.5  , 140.625, 141.75 , 142.875, 144.   ,\n",
        "       145.125, 146.25 , 147.375, 148.5  , 149.625, 150.75 , 151.875, 153.   ,\n",
        "       154.125, 155.25 , 156.375, 157.5  , 158.625, 159.75 , 160.875, 162.   ,\n",
        "       163.125, 164.25 , 165.375, 166.5  , 167.625, 168.75 , 169.875, 171.   ,\n",
        "       172.125, 173.25 , 174.375, 175.5  , 176.625, 177.75 , 178.875, 180.   ,\n",
        "       181.125, 182.25 , 183.375, 184.5  , 185.625, 186.75 , 187.875, 189.   ,\n",
        "       190.125, 191.25 ]\n",
        "    lat_to_idx = {}.fromkeys(lat_grid)\n",
        "    long_to_idx = {}.fromkeys(lat_grid)\n",
        "    year_to_idx = {}.fromkeys(years)\n",
        "\n",
        "    lat_to_idx = {}.fromkeys(lat_grid)\n",
        "    long_to_idx = {}.fromkeys(lat_grid)\n",
        "    year_to_idx = {}.fromkeys(years)\n",
        "\n",
        "    for i, lat_ in enumerate(lat_grid):\n",
        "        lat_to_idx[lat_] = i\n",
        "    for j, long_ in enumerate(long_grid):\n",
        "        long_to_idx[long_] = j\n",
        "    for k, year in enumerate(years):\n",
        "        year_to_idx[year] = k\n",
        "    row[3] = predictions[year_to_idx[row[0]],\n",
        "                   lat_to_idx[row[2]],\n",
        "                   long_to_idx[row[1]]]\n",
        "    return row\n",
        "\n",
        "def create_dataset():\n",
        "    \"\"\"\n",
        "        Создание датасета для анимации.\n",
        "    \"\"\"\n",
        "    years = [year for year in range(2022, 2047)]\n",
        "    lat_grid = [42.05582, 43.17731, 44.29879, 45.42028, 46.54176, 47.66325, 48.78473,\n",
        "       49.90621, 51.02769, 52.14917, 53.27066, 54.39214, 55.51361, 56.63509,\n",
        "       57.75657, 58.87804, 59.99952, 61.12099, 62.24246, 63.36393, 64.4854 ,\n",
        "       65.60686, 66.72833, 67.84978, 68.97124, 70.09269, 71.21414, 72.33558,\n",
        "       73.45701, 74.57843, 75.69984, 76.82124]\n",
        "    long_grid = [ 19.125,  20.25 ,  21.375,  22.5  ,  23.625,  24.75 ,  25.875,  27.   ,\n",
        "        28.125,  29.25 ,  30.375,  31.5  ,  32.625,  33.75 ,  34.875,  36.   ,\n",
        "        37.125,  38.25 ,  39.375,  40.5  ,  41.625,  42.75 ,  43.875,  45.   ,\n",
        "        46.125,  47.25 ,  48.375,  49.5  ,  50.625,  51.75 ,  52.875,  54.   ,\n",
        "        55.125,  56.25 ,  57.375,  58.5  ,  59.625,  60.75 ,  61.875,  63.   ,\n",
        "        64.125,  65.25 ,  66.375,  67.5  ,  68.625,  69.75 ,  70.875,  72.   ,\n",
        "        73.125,  74.25 ,  75.375,  76.5  ,  77.625,  78.75 ,  79.875,  81.   ,\n",
        "        82.125,  83.25 ,  84.375,  85.5  ,  86.625,  87.75 ,  88.875,  90.   ,\n",
        "        91.125,  92.25 ,  93.375,  94.5  ,  95.625,  96.75 ,  97.875,  99.   ,\n",
        "       100.125, 101.25 , 102.375, 103.5  , 104.625, 105.75 , 106.875, 108.   ,\n",
        "       109.125, 110.25 , 111.375, 112.5  , 113.625, 114.75 , 115.875, 117.   ,\n",
        "       118.125, 119.25 , 120.375, 121.5  , 122.625, 123.75 , 124.875, 126.   ,\n",
        "       127.125, 128.25 , 129.375, 130.5  , 131.625, 132.75 , 133.875, 135.   ,\n",
        "       136.125, 137.25 , 138.375, 139.5  , 140.625, 141.75 , 142.875, 144.   ,\n",
        "       145.125, 146.25 , 147.375, 148.5  , 149.625, 150.75 , 151.875, 153.   ,\n",
        "       154.125, 155.25 , 156.375, 157.5  , 158.625, 159.75 , 160.875, 162.   ,\n",
        "       163.125, 164.25 , 165.375, 166.5  , 167.625, 168.75 , 169.875, 171.   ,\n",
        "       172.125, 173.25 , 174.375, 175.5  , 176.625, 177.75 , 178.875, 180.   ,\n",
        "       181.125, 182.25 , 183.375, 184.5  , 185.625, 186.75 , 187.875, 189.   ,\n",
        "       190.125, 191.25 ]\n",
        "\n",
        "    np_ds = cart_prod(years, long_grid, lat_grid)\n",
        "    dataset = pd.DataFrame({'year': np_ds[:, 0], 'lon': np_ds[:, 1], 'lat': np_ds[:, 2]})\n",
        "    dataset[\"Probability_of_hail\"] = None\n",
        "    dataset = dataset.apply(change_prob, axis = 1) \n",
        "    return dataset"
      ]
    },
    {
      "cell_type": "code",
      "execution_count": null,
      "metadata": {
        "id": "fat-ihYj-R1b"
      },
      "outputs": [],
      "source": [
        "dataset_for_drawing = create_dataset()"
      ]
    },
    {
      "cell_type": "code",
      "execution_count": null,
      "metadata": {
        "id": "r_Pzl3f4Bjux"
      },
      "outputs": [],
      "source": [
        "dataset_for_drawing.to_csv(\"dataset_for_drawing_5years_sm.csv\")"
      ]
    },
    {
      "cell_type": "code",
      "execution_count": null,
      "metadata": {
        "id": "MskbUB4vtPtP"
      },
      "outputs": [],
      "source": []
    }
  ],
  "metadata": {
    "accelerator": "GPU",
    "colab": {
      "collapsed_sections": [],
      "name": "GridModelExperiments.ipynb",
      "provenance": []
    },
    "gpuClass": "standard",
    "kernelspec": {
      "display_name": "Python 3.8.8 64-bit",
      "language": "python",
      "name": "python3"
    },
    "language_info": {
      "name": "python",
      "version": "3.8.8"
    },
    "vscode": {
      "interpreter": {
        "hash": "2469a70536e4d2335a2ea8907942d0699c37342a371ac185bdb5b0aa6f073890"
      }
    }
  },
  "nbformat": 4,
  "nbformat_minor": 0
}
